{
 "cells": [
  {
   "cell_type": "code",
   "execution_count": 2,
   "metadata": {},
   "outputs": [
    {
     "name": "stdout",
     "output_type": "stream",
     "text": [
      "Error: name 'reponse' is not defined\n"
     ]
    }
   ],
   "source": [
    "import requests\n",
    "import json\n",
    "import os\n",
    "\n",
    "url = \"https://core.hivelocity.net/api/v1/products/displays/www/fast\"\n",
    "\n",
    "try:\n",
    "    # response = requests.get(url)\n",
    "    if reponse.status_code == 200:\n",
    "        data_json = json.loads(response.json())\n",
    "        all_locations = data_json['ALL_LOCATIONS']\n",
    "        path = os.getcwd() + \"/data.json\"\n",
    "        with open(path, 'w') as file:\n",
    "            json.dump(all_locations, file, indent=4)\n",
    "        \n",
    "except Exception as e:\n",
    "    print(f\"Error: {str(e)}\")"
   ]
  },
  {
   "cell_type": "code",
   "execution_count": 37,
   "metadata": {},
   "outputs": [],
   "source": [
    "def count_words_numbers(obj):\n",
    "    word_count = 0\n",
    "    number_count = 0\n",
    "\n",
    "    if isinstance(obj, dict):\n",
    "        for value in obj.values():\n",
    "            words, numbers = count_words_numbers(value)\n",
    "            word_count += words\n",
    "            number_count += numbers\n",
    "    elif isinstance(obj, list):\n",
    "        for item in obj:\n",
    "            words, numbers = count_words_numbers(item)\n",
    "            word_count += words\n",
    "            number_count += numbers\n",
    "    elif isinstance(obj, str):\n",
    "        word_count += len(obj.split())\n",
    "    elif isinstance(obj, (int, float)):\n",
    "        number_count += 1\n",
    "\n",
    "    return word_count, number_count"
   ]
  },
  {
   "cell_type": "code",
   "execution_count": 41,
   "metadata": {},
   "outputs": [
    {
     "name": "stdout",
     "output_type": "stream",
     "text": [
      "(3353, 1936)\n",
      "146\n",
      "[{\"plan_id\": 496, \"stock\": 27, \"sale\": true, \"new\": false, \"original_price\": 85.0, \"category\": {\"name\": \"Single Processor\", \"priority\": 0, \"slug\": \"single-processor\", \"category_id\": 1}, \"price\": 40.0, \"sps\": true, \"vps\": false, \"description\": {\"name\": \"E3-1270 v3 3.5GHz Haswell \", \"cpu\": \"E3-1270 v3\", \"memory\": \"32GB\", \"drive\": \"480GB SSD\", \"bandwidth\": \"20TB / 1Gbps\", \"gpu\": \"None\", \"cores\": \"4 cores/8 threads\"}, \"product_id\": 2337, \"product_store_url\": \"https://store.hivelocity.net/product/2337/customize\", \"discount\": {\"has_discount\": true, \"discount_amount\": 45.0, \"discount_percentage\": 52.94}}]\n"
     ]
    }
   ],
   "source": [
    "import json\n",
    "from bs4 import BeautifulSoup\n",
    "\n",
    "path = os.getcwd() + \"/data.json\"\n",
    "with open(path, 'r') as file:\n",
    "    data = json.load(file)\n",
    "store_url = \"https://store.hivelocity.net/product/\"\n",
    "def clean_data(data):\n",
    "    \"\"\"\n",
    "    Cleans the input data by normalizing boolean values, removing HTML tags,\n",
    "    copying 'cores' from processor_text to display_text, and removing processor_text.\n",
    "\n",
    "    :param data: Dictionary containing the data to be cleaned.\n",
    "    :return: Cleaned data as a dictionary.\n",
    "    \"\"\"\n",
    "\n",
    "    # Function to remove HTML tags\n",
    "    def remove_html_tags(text):\n",
    "        return BeautifulSoup(text, \"html.parser\").get_text()\n",
    "\n",
    "    if 'processor_text' in data and 'display_text' in data:\n",
    "        if 'cores' in data['processor_text']:\n",
    "            cores_text = remove_html_tags(data['processor_text']['cores'])\n",
    "            data['display_text']['cores'] = cores_text.replace('(', '').replace(')', '')\n",
    "            \n",
    "        del data['processor_text']\n",
    "        data['description'] = data.pop('display_text')\n",
    "        \n",
    "    if 'id' in data:\n",
    "        data['product_id'] = data.pop('id')\n",
    "        data['product_store_url'] = f\"{store_url}{data['product_id']}/customize\"\n",
    "        \n",
    "    if 'category' in data and 'id' in data['category']:\n",
    "        data['category']['category_id'] = data['category'].pop('id')\n",
    "        \n",
    "    for key, value in data.items():\n",
    "        if isinstance(value, bool):\n",
    "            data[key] = bool(value) \n",
    "        elif isinstance(value, dict):\n",
    "            data[key] = clean_data(value)\n",
    "            \n",
    "    if 'original_price' in data and 'price' in data and data['price'] < data['original_price']:\n",
    "        discount = data['original_price'] - data['price']\n",
    "        data['discount'] = {\n",
    "            'has_discount': True,\n",
    "            'discount_amount': discount,\n",
    "            'discount_percentage': round((discount / data['original_price']) * 100, 2)\n",
    "        }\n",
    "    return data\n",
    "\n",
    "data_ = [clean_data(item) for item in data if item['stock'] > 0]\n",
    "num_token = count_words_numbers(data_)\n",
    "print(num_token)\n",
    "print(len(data_))"
   ]
  }
 ],
 "metadata": {
  "kernelspec": {
   "display_name": "Python 3",
   "language": "python",
   "name": "python3"
  },
  "language_info": {
   "codemirror_mode": {
    "name": "ipython",
    "version": 3
   },
   "file_extension": ".py",
   "mimetype": "text/x-python",
   "name": "python",
   "nbconvert_exporter": "python",
   "pygments_lexer": "ipython3",
   "version": "3.8.10"
  }
 },
 "nbformat": 4,
 "nbformat_minor": 2
}
